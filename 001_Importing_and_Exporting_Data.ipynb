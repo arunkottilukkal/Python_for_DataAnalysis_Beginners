{
 "cells": [
  {
   "cell_type": "code",
   "execution_count": 24,
   "metadata": {},
   "outputs": [
    {
     "name": "stdout",
     "output_type": "stream",
     "text": [
      "files/auto.csv\n",
      "Done\n"
     ]
    }
   ],
   "source": [
    "import pandas as pd\n",
    "from datetime import date\n",
    "\n",
    "filePath = \"files/auto.csv\"\n",
    "# Importing Data\n",
    "\"\"\"\n",
    "    If your dataset does not have headers you have to metion\n",
    "    header=None in the reading phase, otherwise data frame will\n",
    "    consider the very first element as header and set the those values / data as header for dataframe.\n",
    "    \n",
    "\"\"\"\n",
    "\n",
    "df = pd.read_csv(filePath, header=None)\n",
    "# Defining headers for the dataset/dataframe\n",
    "headers = [\"symboling\",\"normalized-losses\",\"make\",\"fuel-type\",\"aspiration\",\"num-of-doors\",\"body-style\",\"drive-wheels\",\"engine-location\",\"wheel-base\",\"length\",\"width\",\"height\",\"curb-weight\",\"engine-type\",\"num-of-cylinders\",\"engine-size\",\"fuel-system\",\"bore\",\"stroke\",\"compression-ratio\",\"horsepower\",\"peak-rpm\",\"city-mpg\",\"highway-mpg\",\"price\"]\n",
    "# Setting header to the data\n",
    "df.columns = headers\n",
    "# Exporting data\n",
    "df.to_csv('files/automobile.csv')"
   ]
  }
 ],
 "metadata": {
  "kernelspec": {
   "display_name": "Python 3",
   "language": "python",
   "name": "python3"
  },
  "language_info": {
   "codemirror_mode": {
    "name": "ipython",
    "version": 3
   },
   "file_extension": ".py",
   "mimetype": "text/x-python",
   "name": "python",
   "nbconvert_exporter": "python",
   "pygments_lexer": "ipython3",
   "version": "3.7.3"
  }
 },
 "nbformat": 4,
 "nbformat_minor": 2
}
