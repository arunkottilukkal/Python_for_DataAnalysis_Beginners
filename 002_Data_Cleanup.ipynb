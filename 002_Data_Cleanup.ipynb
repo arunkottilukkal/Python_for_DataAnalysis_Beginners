{
 "cells": [
  {
   "cell_type": "code",
   "execution_count": 43,
   "metadata": {},
   "outputs": [],
   "source": [
    "import pandas as pd\n",
    "import numpy as np\n",
    "\n",
    "inFile = 'files/automobile.csv'\n",
    "\n",
    "df = pd.read_csv(inFile)\n",
    "\n",
    "nFilter = df[\"normalized-losses\"]!=\"na\"\n",
    "\n",
    "newDF = df[nFilter]\n",
    "\n",
    "nFilter = newDF[\"price\"]!=\"na\"\n",
    "newDF = newDF[nFilter]\n",
    "df = newDF\n",
    "df.head()\n",
    "df.to_csv('files/newData.csv')\n",
    "# df.dtypes\n",
    "\n",
    "df[\"normalized-losses\"] = pd.to_numeric(df[\"normalized-losses\"])\n",
    "df[\"price\"] = pd.to_numeric(df[\"price\"])\n",
    "\n",
    "df[\"city-mpg\"] = 235/df[\"city-mpg\"]\n",
    "df[\"highway-mpg\"] = 235/df[\"highway-mpg\"]\n",
    "\n",
    "df.rename(columns={\"city-mpg\": \"city-L/100KM\"}, inplace=True)\n",
    "df.rename(columns={\"highway-mpg\": \"highway-L/100KM\"}, inplace=True)\n",
    "df.to_csv('files/finalData.csv')"
   ]
  },
  {
   "cell_type": "code",
   "execution_count": null,
   "metadata": {},
   "outputs": [],
   "source": []
  }
 ],
 "metadata": {
  "kernelspec": {
   "display_name": "Python 3",
   "language": "python",
   "name": "python3"
  },
  "language_info": {
   "codemirror_mode": {
    "name": "ipython",
    "version": 3
   },
   "file_extension": ".py",
   "mimetype": "text/x-python",
   "name": "python",
   "nbconvert_exporter": "python",
   "pygments_lexer": "ipython3",
   "version": "3.7.3"
  }
 },
 "nbformat": 4,
 "nbformat_minor": 2
}
