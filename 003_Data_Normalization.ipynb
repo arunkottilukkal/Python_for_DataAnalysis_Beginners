{
 "cells": [
  {
   "cell_type": "code",
   "execution_count": 19,
   "metadata": {},
   "outputs": [
    {
     "name": "stdout",
     "output_type": "stream",
     "text": [
      "164\n"
     ]
    }
   ],
   "source": [
    "import pandas as pd\n",
    "\n",
    "inFile = 'files/finalData.csv'\n",
    "\n",
    "df = pd.read_csv(inFile)\n",
    "\n",
    "# #simple feature scaling\n",
    "# df[\"length\"] = df[\"length\"]/df[\"length\"].max()\n",
    "# df[\"width\"] = df[\"width\"]/df[\"width\"].max()\n",
    "# df[\"height\"] = df[\"height\"]/df[\"height\"].max()\n",
    "data_frame_length = len(df)\n",
    "print(data_frame_length)\n",
    "# # min max scaling\n",
    "df[\"length\"] = (df[\"length\"] - df[\"length\"].min())/(df[\"length\"].max() - df[\"length\"].min())\n",
    "df[\"width\"] = (df[\"width\"] - df[\"width\"].min())/(df[\"width\"].max() - df[\"width\"].min())\n",
    "df[\"height\"] = (df[\"height\"] - df[\"height\"].min())/(df[\"height\"].max() - df[\"height\"].min())\n",
    "# # Z-score scaling\n",
    "# df[\"length\"] = (df[\"length\"] - df[\"length\"].mean())/df[\"length\"].std()\n",
    "# df[\"width\"] = (df[\"width\"] - df[\"width\"].mean())/df[\"width\"].std()\n",
    "# df[\"height\"] = (df[\"height\"] - df[\"height\"].mean())/df[\"height\"].std()"
   ]
  },
  {
   "cell_type": "code",
   "execution_count": null,
   "metadata": {},
   "outputs": [],
   "source": []
  }
 ],
 "metadata": {
  "kernelspec": {
   "display_name": "Python 3",
   "language": "python",
   "name": "python3"
  },
  "language_info": {
   "codemirror_mode": {
    "name": "ipython",
    "version": 3
   },
   "file_extension": ".py",
   "mimetype": "text/x-python",
   "name": "python",
   "nbconvert_exporter": "python",
   "pygments_lexer": "ipython3",
   "version": "3.7.3"
  }
 },
 "nbformat": 4,
 "nbformat_minor": 2
}
